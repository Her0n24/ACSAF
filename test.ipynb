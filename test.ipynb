{
 "cells": [
  {
   "cell_type": "code",
   "execution_count": null,
   "id": "1f1bc2dc",
   "metadata": {},
   "outputs": [
    {
     "ename": "",
     "evalue": "",
     "output_type": "error",
     "traceback": [
      "\u001b[1;31mFailed to start the Kernel. \n",
      "\u001b[1;31mImportError: /home/heron_ng/anaconda3/envs/afterglow/lib/python3.13/lib-dynload/_sqlite3.cpython-313-x86_64-linux-gnu.so: undefined symbol: sqlite3_deserialize. \n",
      "\u001b[1;31mView Jupyter <a href='command:jupyter.viewOutput'>log</a> for further details."
     ]
    }
   ],
   "source": [
    "import xarray as xr\n",
    "import numpy as np\n",
    "import pandas as pd\n",
    "import datetime\n",
    "\n",
    "run = \"00\"\n",
    "run = run.zfill(2)\n",
    "today = datetime.date.today()\n",
    "today_str = today.strftime(\"%Y%m%d\")\n",
    "print(run)\n",
    "print(today)\n",
    "print(today_str)\n",
    "\n",
    "ds = xr.open_dataset(f'input/{today_str}{run}0000-6h-oper-fc.grib2', engine = 'cfgrib')"
   ]
  },
  {
   "cell_type": "code",
   "execution_count": null,
   "id": "91ab715d",
   "metadata": {},
   "outputs": [],
   "source": [
    "ds"
   ]
  }
 ],
 "metadata": {
  "kernelspec": {
   "display_name": "afterglow",
   "language": "python",
   "name": "python3"
  },
  "language_info": {
   "name": "python",
   "version": "3.13.2"
  }
 },
 "nbformat": 4,
 "nbformat_minor": 5
}
